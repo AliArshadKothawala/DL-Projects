{
  "nbformat": 4,
  "nbformat_minor": 0,
  "metadata": {
    "colab": {
      "provenance": [],
      "collapsed_sections": []
    },
    "kernelspec": {
      "name": "python3",
      "display_name": "Python 3"
    },
    "language_info": {
      "name": "python"
    },
    "accelerator": "GPU"
  },
  "cells": [
    {
      "cell_type": "code",
      "execution_count": 1,
      "metadata": {
        "id": "HHaS4rGjerzh"
      },
      "outputs": [],
      "source": [
        "# Import necessary packages\n",
        "import torch\n",
        "import torch.nn as nn\n",
        "import torch.optim as optim\n",
        "import torchvision\n",
        "from torchvision import transforms\n",
        "from torch.utils.data import DataLoader\n",
        "import numpy as np\n",
        "import matplotlib.pyplot as plt\n",
        "import time"
      ]
    },
    {
      "cell_type": "code",
      "source": [
        "# bash Linux commands for checking the allotted GPU\n",
        "!nvidia-smi\n",
        "! env | grep CUDA"
      ],
      "metadata": {
        "colab": {
          "base_uri": "https://localhost:8080/"
        },
        "id": "eKkx_m-U6D_7",
        "outputId": "3d0c3845-70de-420b-b980-bf7c097cc18c"
      },
      "execution_count": 2,
      "outputs": [
        {
          "output_type": "stream",
          "name": "stdout",
          "text": [
            "Mon Oct 24 07:44:09 2022       \n",
            "+-----------------------------------------------------------------------------+\n",
            "| NVIDIA-SMI 460.32.03    Driver Version: 460.32.03    CUDA Version: 11.2     |\n",
            "|-------------------------------+----------------------+----------------------+\n",
            "| GPU  Name        Persistence-M| Bus-Id        Disp.A | Volatile Uncorr. ECC |\n",
            "| Fan  Temp  Perf  Pwr:Usage/Cap|         Memory-Usage | GPU-Util  Compute M. |\n",
            "|                               |                      |               MIG M. |\n",
            "|===============================+======================+======================|\n",
            "|   0  Tesla T4            Off  | 00000000:00:04.0 Off |                    0 |\n",
            "| N/A   53C    P8    10W /  70W |      0MiB / 15109MiB |      0%      Default |\n",
            "|                               |                      |                  N/A |\n",
            "+-------------------------------+----------------------+----------------------+\n",
            "                                                                               \n",
            "+-----------------------------------------------------------------------------+\n",
            "| Processes:                                                                  |\n",
            "|  GPU   GI   CI        PID   Type   Process name                  GPU Memory |\n",
            "|        ID   ID                                                   Usage      |\n",
            "|=============================================================================|\n",
            "|  No running processes found                                                 |\n",
            "+-----------------------------------------------------------------------------+\n",
            "NV_CUDA_COMPAT_PACKAGE=cuda-compat-11-2\n",
            "NV_CUDA_LIB_VERSION=11.2.2-1\n",
            "NV_CUDA_CUDART_DEV_VERSION=11.2.152-1\n",
            "CUDA_VERSION=11.2.2\n",
            "NVIDIA_REQUIRE_CUDA=cuda>=11.2 brand=tesla,driver>=418,driver<419 brand=tesla,driver>=450,driver<451\n",
            "NV_CUDA_CUDART_VERSION=11.2.152-1\n"
          ]
        }
      ]
    },
    {
      "cell_type": "code",
      "source": [
        "# Hyperparameters\n",
        "input_size=28*28\n",
        "num_classes=10\n",
        "num_epochs=10\n",
        "batch_size=128\n",
        "learning_rate=0.001\n",
        "device=torch.device('cuda' if torch.cuda.is_available() else 'cpu')\n",
        "print(f'Device available: {device}')"
      ],
      "metadata": {
        "id": "Ka_qO12sfFtP",
        "colab": {
          "base_uri": "https://localhost:8080/"
        },
        "outputId": "63a4a153-aa91-4641-8bc3-276ae637b40e"
      },
      "execution_count": 3,
      "outputs": [
        {
          "output_type": "stream",
          "name": "stdout",
          "text": [
            "Device available: cuda\n"
          ]
        }
      ]
    },
    {
      "cell_type": "code",
      "source": [
        "# Dataset\n",
        "train_dataset=torchvision.datasets.MNIST(root='./data',train=True,download=True,transform=transforms.ToTensor())\n",
        "\n",
        "test_dataset=torchvision.datasets.MNIST(root='./data',train=False,download=True,transform=transforms.ToTensor())"
      ],
      "metadata": {
        "id": "1chOoS04fiE5"
      },
      "execution_count": 4,
      "outputs": []
    },
    {
      "cell_type": "code",
      "source": [
        "# Dataloaders\n",
        "train_dataloader=DataLoader(train_dataset,batch_size=batch_size,shuffle=True)\n",
        "test_dataloader=DataLoader(test_dataset,batch_size=batch_size,shuffle=True)"
      ],
      "metadata": {
        "id": "yc8TK6Nyg81u"
      },
      "execution_count": 5,
      "outputs": []
    },
    {
      "cell_type": "code",
      "source": [
        "len(train_dataloader)"
      ],
      "metadata": {
        "colab": {
          "base_uri": "https://localhost:8080/"
        },
        "id": "jPi7m0FLhpwF",
        "outputId": "26140aac-8fdf-4984-e324-9d4d75cd86f3"
      },
      "execution_count": 6,
      "outputs": [
        {
          "output_type": "execute_result",
          "data": {
            "text/plain": [
              "469"
            ]
          },
          "metadata": {},
          "execution_count": 6
        }
      ]
    },
    {
      "cell_type": "code",
      "source": [
        "# Logistic Regression model\n",
        "model= nn.Linear(input_size,num_classes).to(device)"
      ],
      "metadata": {
        "id": "ki5mhBMdhzn5"
      },
      "execution_count": 7,
      "outputs": []
    },
    {
      "cell_type": "code",
      "source": [
        "# Loss and optimizer\n",
        "# Note : nn.CrossEntropyLoss() computes softmax internally\n",
        "criterion=nn.CrossEntropyLoss()\n",
        "\n",
        "optimizer=optim.SGD(model.parameters(),lr=learning_rate)"
      ],
      "metadata": {
        "id": "O0k9QOF7y9CN"
      },
      "execution_count": 8,
      "outputs": []
    },
    {
      "cell_type": "code",
      "source": [
        "# Train the model\n",
        "total_step=len(train_dataloader)\n",
        "start_time=time.time()\n",
        "for epoch in range(num_epochs):\n",
        "  for i,(images,labels) in enumerate(train_dataloader):\n",
        "     # Reshape the images to 1D vector\n",
        "     images=images.reshape(-1,input_size).to(device)\n",
        "     labels=labels.to(device)\n",
        "     # Forward pass\n",
        "     prediction=model(images)\n",
        "     # compute the loss\n",
        "     loss=criterion(prediction,labels)\n",
        "     # Backward pass\n",
        "     # zero the gradients\n",
        "     optimizer.zero_grad()\n",
        "     # perform backpropagation\n",
        "     loss.backward()\n",
        "     # update the weights\n",
        "     optimizer.step()\n",
        "     if(i+1)%100 == 0:\n",
        "       print(f'Epochs :{epoch+1}/{num_epochs}  Steps: {i+1}/{total_step} Loss: {loss.item():.4f}')\n",
        "end_time=time.time()\n",
        "print(f'Training took {end_time-start_time:.2f} s')\n",
        "      \n",
        "\n"
      ],
      "metadata": {
        "colab": {
          "base_uri": "https://localhost:8080/"
        },
        "id": "yXj2_25hy8hB",
        "outputId": "d20e435f-c54b-4b9f-cc80-052b44440cc9"
      },
      "execution_count": 9,
      "outputs": [
        {
          "output_type": "stream",
          "name": "stdout",
          "text": [
            "Epochs :1/10  Steps: 100/469 Loss: 2.2103\n",
            "Epochs :1/10  Steps: 200/469 Loss: 2.1193\n",
            "Epochs :1/10  Steps: 300/469 Loss: 2.0285\n",
            "Epochs :1/10  Steps: 400/469 Loss: 1.9193\n",
            "Epochs :2/10  Steps: 100/469 Loss: 1.8217\n",
            "Epochs :2/10  Steps: 200/469 Loss: 1.7086\n",
            "Epochs :2/10  Steps: 300/469 Loss: 1.7239\n",
            "Epochs :2/10  Steps: 400/469 Loss: 1.6306\n",
            "Epochs :3/10  Steps: 100/469 Loss: 1.6209\n",
            "Epochs :3/10  Steps: 200/469 Loss: 1.4404\n",
            "Epochs :3/10  Steps: 300/469 Loss: 1.5304\n",
            "Epochs :3/10  Steps: 400/469 Loss: 1.3874\n",
            "Epochs :4/10  Steps: 100/469 Loss: 1.3133\n",
            "Epochs :4/10  Steps: 200/469 Loss: 1.2863\n",
            "Epochs :4/10  Steps: 300/469 Loss: 1.2750\n",
            "Epochs :4/10  Steps: 400/469 Loss: 1.2153\n",
            "Epochs :5/10  Steps: 100/469 Loss: 1.1916\n",
            "Epochs :5/10  Steps: 200/469 Loss: 1.1962\n",
            "Epochs :5/10  Steps: 300/469 Loss: 1.2139\n",
            "Epochs :5/10  Steps: 400/469 Loss: 1.1256\n",
            "Epochs :6/10  Steps: 100/469 Loss: 1.0946\n",
            "Epochs :6/10  Steps: 200/469 Loss: 1.0942\n",
            "Epochs :6/10  Steps: 300/469 Loss: 1.0142\n",
            "Epochs :6/10  Steps: 400/469 Loss: 1.0270\n",
            "Epochs :7/10  Steps: 100/469 Loss: 0.9751\n",
            "Epochs :7/10  Steps: 200/469 Loss: 1.0847\n",
            "Epochs :7/10  Steps: 300/469 Loss: 0.9875\n",
            "Epochs :7/10  Steps: 400/469 Loss: 1.0307\n",
            "Epochs :8/10  Steps: 100/469 Loss: 0.9496\n",
            "Epochs :8/10  Steps: 200/469 Loss: 1.0656\n",
            "Epochs :8/10  Steps: 300/469 Loss: 0.8918\n",
            "Epochs :8/10  Steps: 400/469 Loss: 0.9209\n",
            "Epochs :9/10  Steps: 100/469 Loss: 0.9379\n",
            "Epochs :9/10  Steps: 200/469 Loss: 0.8697\n",
            "Epochs :9/10  Steps: 300/469 Loss: 0.8510\n",
            "Epochs :9/10  Steps: 400/469 Loss: 0.8664\n",
            "Epochs :10/10  Steps: 100/469 Loss: 0.8393\n",
            "Epochs :10/10  Steps: 200/469 Loss: 0.7548\n",
            "Epochs :10/10  Steps: 300/469 Loss: 0.8824\n",
            "Epochs :10/10  Steps: 400/469 Loss: 0.7870\n",
            "Training took 53.68 s\n"
          ]
        }
      ]
    },
    {
      "cell_type": "code",
      "source": [
        "# Inferencing phase\n",
        "with torch.no_grad():\n",
        "  correct=0\n",
        "  total=0\n",
        "  for images,labels in test_dataloader:\n",
        "    images=images.reshape(-1,input_size).to(device)\n",
        "    labels=labels.to(device)\n",
        "    outputs=model(images)\n",
        "    _,predictions=torch.max(outputs.data,axis=1)\n",
        "    total+=labels.size(0)\n",
        "    correct+=(predictions==labels).sum()\n",
        "  print(f'Test Accuracy of the logistic regression model:{(correct/total)*100:.2f}')"
      ],
      "metadata": {
        "colab": {
          "base_uri": "https://localhost:8080/"
        },
        "id": "7NFP6cEOy67w",
        "outputId": "f4591bc8-6edf-439e-a7a7-3f078f51692f"
      },
      "execution_count": 10,
      "outputs": [
        {
          "output_type": "stream",
          "name": "stdout",
          "text": [
            "Test Accuracy of the logistic regression model:84.53\n"
          ]
        }
      ]
    },
    {
      "cell_type": "code",
      "source": [
        "# save the model\n",
        "torch.save(model.state_dict(),'model.ckpt')"
      ],
      "metadata": {
        "id": "gZdRQ7ur2tUf"
      },
      "execution_count": 11,
      "outputs": []
    }
  ]
}
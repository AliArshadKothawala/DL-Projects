{
  "nbformat": 4,
  "nbformat_minor": 0,
  "metadata": {
    "colab": {
      "name": "Fully connected Neural Network.ipynb",
      "provenance": [],
      "collapsed_sections": []
    },
    "kernelspec": {
      "name": "python3",
      "display_name": "Python 3"
    },
    "language_info": {
      "name": "python"
    },
    "accelerator": "GPU",
    "gpuClass": "standard"
  },
  "cells": [
    {
      "cell_type": "markdown",
      "source": [
        "Fully connected Neural Network using Pytorch\n",
        "\n",
        "\n",
        "*   Dataset: MNIST\n",
        "\n",
        "*   Network type: Fully connected dense neural network\n",
        "\n"
      ],
      "metadata": {
        "id": "3FyrE33_iN1K"
      }
    },
    {
      "cell_type": "markdown",
      "source": [
        "Import the necessary packages"
      ],
      "metadata": {
        "id": "HGhBwtPWSkAv"
      }
    },
    {
      "cell_type": "code",
      "execution_count": 1,
      "metadata": {
        "id": "2dEoAWHkR0mN"
      },
      "outputs": [],
      "source": [
        "import torch\n",
        "import torch.nn as nn\n",
        "import torch.optim as optim\n",
        "import torch.nn.functional as F\n",
        "from torch.utils.data import DataLoader\n",
        "import torchvision.datasets as datasets\n",
        "import torchvision.transforms as transforms"
      ]
    },
    {
      "cell_type": "markdown",
      "source": [
        "Create a Fully connected Neural Network"
      ],
      "metadata": {
        "id": "N5XR7Kk1StC-"
      }
    },
    {
      "cell_type": "code",
      "source": [
        "class NN (nn.Module):\n",
        "  '''\n",
        "  Simple 2 layer Neural Network\n",
        "  Input: input_size [int]\n",
        "         num_classes\n",
        "  Output: vector [size= batch size x num_classes]. Each entry is a logit score.\n",
        "  '''\n",
        "  def __init__(self,input_size,num_classes):\n",
        "    super(NN,self).__init__()\n",
        "    self.fc1=nn.Linear(input_size,64)\n",
        "    self.fc2=nn.Linear(64,128)\n",
        "    self.fc3=nn.Linear(128,10)\n",
        "\n",
        "  def forward(self,x):\n",
        "    x=F.relu(self.fc1(x))\n",
        "    x=F.relu(self.fc2(x))\n",
        "    x=self.fc3(x)\n",
        "    return x\n",
        "\n",
        "\n"
      ],
      "metadata": {
        "id": "lHxL3w65SY32"
      },
      "execution_count": 2,
      "outputs": []
    },
    {
      "cell_type": "markdown",
      "source": [
        "Test the model on the random input"
      ],
      "metadata": {
        "id": "x7xaL0ZGUy_e"
      }
    },
    {
      "cell_type": "code",
      "source": [
        "model= NN(784,10)\n",
        "xx=torch.rand((64,784))\n",
        "output=model(xx)\n",
        "print(output.shape)"
      ],
      "metadata": {
        "colab": {
          "base_uri": "https://localhost:8080/"
        },
        "id": "W2uqj5mlT3OA",
        "outputId": "9728e3a2-5087-427e-82fd-ed57a4002d16"
      },
      "execution_count": 3,
      "outputs": [
        {
          "output_type": "stream",
          "name": "stdout",
          "text": [
            "torch.Size([64, 10])\n"
          ]
        }
      ]
    },
    {
      "cell_type": "markdown",
      "source": [
        "Set the device"
      ],
      "metadata": {
        "id": "A0vkDO6-U7qR"
      }
    },
    {
      "cell_type": "code",
      "source": [
        "device=torch.device('cuda' if torch.cuda.is_available() else 'cpu')"
      ],
      "metadata": {
        "id": "nPqWaISEUIDK"
      },
      "execution_count": 4,
      "outputs": []
    },
    {
      "cell_type": "markdown",
      "source": [
        "Hyperparameters"
      ],
      "metadata": {
        "id": "GjSQWc2fVOY_"
      }
    },
    {
      "cell_type": "code",
      "source": [
        "input_size=784 # MNIST dataset 28x28 image size\n",
        "num_classes=10\n",
        "learning_rate=0.001\n",
        "batch_size=64\n",
        "num_epochs=1"
      ],
      "metadata": {
        "id": "lstbS74wVI3Z"
      },
      "execution_count": 5,
      "outputs": []
    },
    {
      "cell_type": "markdown",
      "source": [
        "Load the data"
      ],
      "metadata": {
        "id": "Yu-tI11nWDUf"
      }
    },
    {
      "cell_type": "code",
      "source": [
        "train_data= datasets.MNIST(root='/dataset',train=True,transform=transforms.ToTensor(),download=True)\n",
        "train_loader=DataLoader(dataset=train_data,batch_size=batch_size,shuffle=True)\n",
        "\n",
        "test_data=datasets.MNIST(root='/dataset',train=False,transform=transforms.ToTensor(),download=True)\n",
        "test_loader=DataLoader(dataset=test_data,batch_size=64, shuffle=True)"
      ],
      "metadata": {
        "id": "MbodNRZSVlEj"
      },
      "execution_count": 6,
      "outputs": []
    },
    {
      "cell_type": "markdown",
      "source": [
        "Initialize the Network"
      ],
      "metadata": {
        "id": "5O7-87KWW3Kv"
      }
    },
    {
      "cell_type": "code",
      "source": [
        "model=NN(input_size=input_size,num_classes=num_classes).to(device)"
      ],
      "metadata": {
        "id": "FZU_3pXkXIq4"
      },
      "execution_count": 7,
      "outputs": []
    },
    {
      "cell_type": "markdown",
      "source": [
        "Loss and Optimizer"
      ],
      "metadata": {
        "id": "xu1CghGBXQZ1"
      }
    },
    {
      "cell_type": "code",
      "source": [
        "criterion=nn.CrossEntropyLoss()\n",
        "optimizer=optim.Adam(model.parameters(),lr=learning_rate)"
      ],
      "metadata": {
        "id": "ojAUT4yGXNBt"
      },
      "execution_count": 8,
      "outputs": []
    },
    {
      "cell_type": "markdown",
      "source": [
        "Training the Network"
      ],
      "metadata": {
        "id": "2gOsjR-9XlAP"
      }
    },
    {
      "cell_type": "code",
      "source": [
        "for epoch in range(num_epochs):\n",
        "  for batch_idx, (data,targets) in enumerate(train_loader):\n",
        "    # Get data to GPU if available\n",
        "    data=data.to(device=device)\n",
        "    targets=targets.to(device=device)\n",
        "    # Flatten the image data\n",
        "    data=data.reshape(data.shape[0],-1)\n",
        "    #pass the data through model\n",
        "    predictions=model(data)\n",
        "    loss=criterion(predictions,targets)\n",
        "    # backward pass\n",
        "    optimizer.zero_grad()\n",
        "    loss.backward()\n",
        "    # gradient descent or Adam step\n",
        "    optimizer.step()\n"
      ],
      "metadata": {
        "id": "T9qVbxH0Xmi3"
      },
      "execution_count": 9,
      "outputs": []
    },
    {
      "cell_type": "markdown",
      "source": [
        "Check the accuracy of the model"
      ],
      "metadata": {
        "id": "or2tGYVRZmvw"
      }
    },
    {
      "cell_type": "code",
      "source": [
        "def check_accuracy(loader,model):\n",
        "  if loader.dataset.train:\n",
        "    print('Training accuracy')\n",
        "  else:\n",
        "    print('Test accuracy')\n",
        "\n",
        "  num_correct=0\n",
        "  num_samples=0\n",
        "  model.eval()\n",
        "\n",
        "  with torch.no_grad():\n",
        "    for x,y in loader:\n",
        "      x=x.to(device=device)\n",
        "      y=y.to(device=device)\n",
        "      x=x.reshape(x.shape[0],-1)\n",
        "      scores=model(x)\n",
        "      _,predictions=scores.max(1)\n",
        "\n",
        "      num_correct+=(predictions==y).sum()\n",
        "      num_samples+=predictions.shape[0]\n",
        "      acc=(float(num_correct)/float(num_samples)) *100\n",
        "    print(f'Got {num_correct}/{num_samples} with accuracy {(float(num_correct)/float(num_samples)) *100 :.2f} %')\n",
        "  \n",
        "  model.train()"
      ],
      "metadata": {
        "id": "Qiv5M0nSZmbs"
      },
      "execution_count": 10,
      "outputs": []
    },
    {
      "cell_type": "code",
      "source": [
        "check_accuracy(test_loader,model)\n",
        "check_accuracy(train_loader,model)"
      ],
      "metadata": {
        "colab": {
          "base_uri": "https://localhost:8080/"
        },
        "id": "crmjCF2qdy2y",
        "outputId": "76d1e891-56b1-4084-84f2-14b88e188380"
      },
      "execution_count": 11,
      "outputs": [
        {
          "output_type": "stream",
          "name": "stdout",
          "text": [
            "Test accuracy\n",
            "Got 9469/10000 with accuracy 94.69 %\n",
            "Training accuracy\n",
            "Got 56924/60000 with accuracy 94.87 %\n"
          ]
        }
      ]
    }
  ]
}
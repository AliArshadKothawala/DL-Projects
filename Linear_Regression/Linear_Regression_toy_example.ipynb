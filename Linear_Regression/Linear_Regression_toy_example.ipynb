{
  "nbformat": 4,
  "nbformat_minor": 0,
  "metadata": {
    "colab": {
      "provenance": [],
      "collapsed_sections": []
    },
    "kernelspec": {
      "name": "python3",
      "display_name": "Python 3"
    },
    "language_info": {
      "name": "python"
    },
    "accelerator": "GPU"
  },
  "cells": [
    {
      "cell_type": "code",
      "execution_count": 1,
      "metadata": {
        "id": "EUZXlt8THh-c"
      },
      "outputs": [],
      "source": [
        "import torch\n",
        "import torch.nn as nn\n",
        "import numpy as np\n",
        "import matplotlib.pyplot as plt\n",
        "import time"
      ]
    },
    {
      "cell_type": "code",
      "source": [
        "# Hyperparameters\n",
        "input_size=1\n",
        "output_size=1\n",
        "num_epochs=100\n",
        "learning_rate=1e-3\n",
        "momentum=0\n"
      ],
      "metadata": {
        "id": "9zZPyAjAJ2Tz"
      },
      "execution_count": 2,
      "outputs": []
    },
    {
      "cell_type": "code",
      "source": [
        "# Toy dataset\n",
        "# Toy dataset\n",
        "x_train = np.array([[3.3], [4.4], [5.5], [6.71], [6.93], [4.168], \n",
        "                    [9.779], [6.182], [7.59], [2.167], [7.042], \n",
        "                    [10.791], [5.313], [7.997], [3.1]], dtype=np.float32)\n",
        "\n",
        "y_train = np.array([[1.7], [2.76], [2.09], [3.19], [1.694], [1.573], \n",
        "                    [3.366], [2.596], [2.53], [1.221], [2.827], \n",
        "                    [3.465], [1.65], [2.904], [1.3]], dtype=np.float32)"
      ],
      "metadata": {
        "id": "4-ZdkNdSKFUB"
      },
      "execution_count": 3,
      "outputs": []
    },
    {
      "cell_type": "code",
      "source": [
        "# Linear Regression model\n",
        "model=nn.Linear(input_size,output_size)"
      ],
      "metadata": {
        "id": "HapqOxx7K072"
      },
      "execution_count": 4,
      "outputs": []
    },
    {
      "cell_type": "code",
      "source": [
        "# Loss and optimizer\n",
        "criterion=nn.MSELoss()\n",
        "optimizer=torch.optim.SGD(params=model.parameters(),lr=learning_rate,momentum=momentum)\n",
        "\n",
        "# Send model to GPU\n",
        "device=torch.device('cuda' if torch.cuda.is_available() else 'cpu')\n",
        "model=model.to(device)\n",
        "\n",
        "print(f'Model is running on :{device}')"
      ],
      "metadata": {
        "colab": {
          "base_uri": "https://localhost:8080/"
        },
        "id": "RoQ1X74GLCXG",
        "outputId": "f84564ad-718b-434f-81b4-7ece04468f56"
      },
      "execution_count": 5,
      "outputs": [
        {
          "output_type": "stream",
          "name": "stdout",
          "text": [
            "Model is running on :cuda\n"
          ]
        }
      ]
    },
    {
      "cell_type": "code",
      "source": [
        "# Training loop\n",
        "start_time=time.time()\n",
        "for epoch in range(num_epochs):\n",
        "  # convert to Tensors\n",
        "  inputs=torch.from_numpy(x_train).to(device)\n",
        "  targets=torch.from_numpy(y_train).to(device)\n",
        "\n",
        "  # forward pass\n",
        "  outputs=model(inputs)\n",
        "\n",
        "  # Backward pass and optimization\n",
        "  optimizer.zero_grad()\n",
        "  loss=criterion(outputs,targets)\n",
        "  loss.backward()\n",
        "  optimizer.step()\n",
        "\n",
        "  if(epoch+1) % 5==0:\n",
        "    print(f'Epoch: {epoch+1}/{num_epochs} Loss={loss.item():.4f}')\n",
        "end_time=time.time()\n",
        "\n",
        "print(f'Time lapsed: {end_time-start_time} s')"
      ],
      "metadata": {
        "colab": {
          "base_uri": "https://localhost:8080/"
        },
        "id": "zrLQZejbLgxt",
        "outputId": "1ec47d49-1d59-4ab0-91c6-067056cdc382"
      },
      "execution_count": 6,
      "outputs": [
        {
          "output_type": "stream",
          "name": "stdout",
          "text": [
            "Epoch: 5/100 Loss=12.3870\n",
            "Epoch: 10/100 Loss=5.1284\n",
            "Epoch: 15/100 Loss=2.1877\n",
            "Epoch: 20/100 Loss=0.9964\n",
            "Epoch: 25/100 Loss=0.5138\n",
            "Epoch: 30/100 Loss=0.3182\n",
            "Epoch: 35/100 Loss=0.2390\n",
            "Epoch: 40/100 Loss=0.2068\n",
            "Epoch: 45/100 Loss=0.1938\n",
            "Epoch: 50/100 Loss=0.1885\n",
            "Epoch: 55/100 Loss=0.1863\n",
            "Epoch: 60/100 Loss=0.1854\n",
            "Epoch: 65/100 Loss=0.1850\n",
            "Epoch: 70/100 Loss=0.1848\n",
            "Epoch: 75/100 Loss=0.1847\n",
            "Epoch: 80/100 Loss=0.1847\n",
            "Epoch: 85/100 Loss=0.1846\n",
            "Epoch: 90/100 Loss=0.1846\n",
            "Epoch: 95/100 Loss=0.1845\n",
            "Epoch: 100/100 Loss=0.1845\n",
            "Time lapsed: 0.7684879302978516 s\n"
          ]
        }
      ]
    },
    {
      "cell_type": "code",
      "source": [
        "# Plot the graphs\n",
        "predicted=model(torch.from_numpy(x_train).to(device)).cpu().detach().numpy()\n",
        "plt.plot(x_train,y_train,'co',label='Original Data')\n",
        "plt.plot(x_train,predicted,'m-',label='Fitted Line')\n",
        "plt.legend()\n",
        "plt.show()\n"
      ],
      "metadata": {
        "colab": {
          "base_uri": "https://localhost:8080/",
          "height": 265
        },
        "id": "CVl8K6gLNcug",
        "outputId": "e845c7d9-ed52-4046-f2bc-3b09c2b6b444"
      },
      "execution_count": 7,
      "outputs": [
        {
          "output_type": "display_data",
          "data": {
            "text/plain": [
              "<Figure size 432x288 with 1 Axes>"
            ],
            "image/png": "[encoded data removed]"
          },
          "metadata": {
            "needs_background": "light"
          }
        }
      ]
    },
    {
      "cell_type": "code",
      "source": [
        "# save the model\n",
        "torch.save(model.state_dict(),'model_LR.pth')"
      ],
      "metadata": {
        "id": "bHxz8w7JN8wk"
      },
      "execution_count": 8,
      "outputs": []
    },
    {
      "cell_type": "code",
      "source": [],
      "metadata": {
        "id": "xP8PpyDuQAhx"
      },
      "execution_count": 8,
      "outputs": []
    }
  ]
}
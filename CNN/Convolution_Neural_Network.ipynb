{
  "nbformat": 4,
  "nbformat_minor": 0,
  "metadata": {
    "colab": {
      "name": "Convolution_Neural_Network.ipynb",
      "provenance": [],
      "collapsed_sections": []
    },
    "kernelspec": {
      "name": "python3",
      "display_name": "Python 3"
    },
    "language_info": {
      "name": "python"
    },
    "accelerator": "GPU",
    "gpuClass": "standard"
  },
  "cells": [
    {
      "cell_type": "markdown",
      "source": [
        "Import necessary packages"
      ],
      "metadata": {
        "id": "AZSXK75FO7CY"
      }
    },
    {
      "cell_type": "code",
      "execution_count": 1,
      "metadata": {
        "id": "xVfZaAXp7V6K"
      },
      "outputs": [],
      "source": [
        "import torch\n",
        "import torch.nn as nn\n",
        "import torch.optim as optim\n",
        "import torch.nn.functional as F\n",
        "from torch.utils.data import DataLoader\n",
        "import torchvision.datasets as datasets\n",
        "import torchvision.transforms as transforms"
      ]
    },
    {
      "cell_type": "markdown",
      "source": [
        "Create a CNN Model"
      ],
      "metadata": {
        "id": "vz2RLXy4PAe3"
      }
    },
    {
      "cell_type": "code",
      "source": [
        "class CNN_model(nn.Module):\n",
        "  '''\n",
        "  CNN Model\n",
        "  Input: Image 28x28x1\n",
        "  Output: Logit scores for each class\n",
        "  Architecture: Input --> Conv2d(3x3) --> MaxPool2D(2x2) --> Conv2d(3x3) --> MaxPool2D(2x2) --> FC(64) --FC(10)\n",
        "  '''\n",
        "  def __init__(self,input_channels,num_classes):\n",
        "    super(CNN_model,self).__init__()\n",
        "    self.device=device\n",
        "    self.conv1=nn.Conv2d(in_channels=input_channels,out_channels=4,kernel_size=(3,3),stride=(1,1),padding=(1,1)) # 28 x28\n",
        "    self.pool=nn.MaxPool2d(kernel_size=(2,2),stride=(2,2)) # 14 x 14\n",
        "    self.conv2=nn.Conv2d(in_channels=4,out_channels=8,kernel_size=(3,3),stride=(1,1),padding=(1,1)) # 14 x 14\n",
        "    self.fc1=nn.Linear(in_features=7*7*8,out_features=32)\n",
        "    self.fc2=nn.Linear(in_features=32,out_features=num_classes)\n",
        "\n",
        "  def forward(self,x):\n",
        "    x=F.relu(self.conv1(x)) # 28 x 28 x 4\n",
        "    x=self.pool(x)          # 14 x 14 x 4\n",
        "    x=F.relu(self.conv2(x)) # 14 x 14 x 8\n",
        "    x=self.pool(x)          # 7 x 7 x 8\n",
        "    x=x.reshape(x.shape[0],-1)\n",
        "    x=F.relu(self.fc1(x))   # 32 x 1\n",
        "    x=self.fc2(x)           # 10 x 1\n",
        "    return x\n",
        "\n"
      ],
      "metadata": {
        "id": "bxIgZNKb9V6J"
      },
      "execution_count": 2,
      "outputs": []
    },
    {
      "cell_type": "markdown",
      "source": [
        "Hyperparameters of the CNN model"
      ],
      "metadata": {
        "id": "gKS5CP0CPD7J"
      }
    },
    {
      "cell_type": "code",
      "source": [
        "input_channels=1\n",
        "num_classes=10\n",
        "batch_size=64\n",
        "learning_rate=0.001\n",
        "num_epochs=4\n",
        "\n",
        "device=torch.device('cuda' if torch.cuda.is_available() else 'cpu')"
      ],
      "metadata": {
        "id": "iQlCqsVE9Ccz"
      },
      "execution_count": 3,
      "outputs": []
    },
    {
      "cell_type": "code",
      "source": [
        "device"
      ],
      "metadata": {
        "colab": {
          "base_uri": "https://localhost:8080/"
        },
        "id": "gtvtilIdJgVe",
        "outputId": "834901ab-be7e-4ed3-a773-856e864c374e"
      },
      "execution_count": 4,
      "outputs": [
        {
          "output_type": "execute_result",
          "data": {
            "text/plain": [
              "device(type='cuda')"
            ]
          },
          "metadata": {},
          "execution_count": 4
        }
      ]
    },
    {
      "cell_type": "markdown",
      "source": [
        "Load the data and create dataloaders"
      ],
      "metadata": {
        "id": "QGDdQbJBPJYJ"
      }
    },
    {
      "cell_type": "code",
      "source": [
        "train_dataset=datasets.MNIST(root='./dataset/',train=True,download=True,transform=transforms.ToTensor())\n",
        "train_dataloader=DataLoader(dataset=train_dataset,batch_size=batch_size,shuffle=True)\n",
        "\n",
        "test_dataset=datasets.MNIST(root='./dataset/',train=False,download=True,transform=transforms.ToTensor())\n",
        "test_dataloader=DataLoader(dataset=test_dataset,batch_size=batch_size,shuffle=True)"
      ],
      "metadata": {
        "id": "xB17qp6173k8"
      },
      "execution_count": 5,
      "outputs": []
    },
    {
      "cell_type": "markdown",
      "source": [
        "Initialize a model and transfer it to GPU "
      ],
      "metadata": {
        "id": "TGgSohFePNt-"
      }
    },
    {
      "cell_type": "code",
      "source": [
        "model=CNN_model(input_channels,num_classes).to(device=device)"
      ],
      "metadata": {
        "id": "vCkTDpZu-_IF"
      },
      "execution_count": 6,
      "outputs": []
    },
    {
      "cell_type": "markdown",
      "source": [
        "Define a loss and optimizer"
      ],
      "metadata": {
        "id": "cJXP4GLKPSuV"
      }
    },
    {
      "cell_type": "code",
      "source": [
        "criterion=nn.CrossEntropyLoss()\n",
        "optimizer=optim.Adam(model.parameters(),lr=learning_rate)"
      ],
      "metadata": {
        "id": "u4RhoaCZ-zlp"
      },
      "execution_count": 7,
      "outputs": []
    },
    {
      "cell_type": "markdown",
      "source": [
        "Create a Training Loop"
      ],
      "metadata": {
        "id": "D6egVbFVPW25"
      }
    },
    {
      "cell_type": "code",
      "source": [
        "# Training loop\n",
        "for epoch in range(num_epochs):\n",
        "  for batch_idx,(inputs,targets) in enumerate(train_dataloader):\n",
        "    inputs=inputs.to(device=device)\n",
        "    targets=targets.to(device=device)\n",
        "    scores= model(inputs)\n",
        "    \n",
        "    loss=criterion(scores,targets)\n",
        "\n",
        "    # backward pass\n",
        "    optimizer.zero_grad()\n",
        "    loss.backward()\n",
        "    optimizer.step()\n",
        "\n",
        "    \n"
      ],
      "metadata": {
        "id": "qBwpqwAHB2uh"
      },
      "execution_count": 8,
      "outputs": []
    },
    {
      "cell_type": "markdown",
      "source": [
        "Accuracy Metric"
      ],
      "metadata": {
        "id": "DWDlyGXPPaCK"
      }
    },
    {
      "cell_type": "code",
      "source": [
        "def calculate_accuracy(loader,model):\n",
        "  if loader.dataset.train:\n",
        "    print(\"Training accuracy\")\n",
        "  else:\n",
        "    print(\"Test accuracy\")\n",
        "  model.eval()\n",
        "  num_correct=0\n",
        "  num_samples=0\n",
        "\n",
        "  with torch.no_grad():\n",
        "    for x,y in loader:\n",
        "      x=x.to(device=device)\n",
        "      y=y.to(device=device)\n",
        "      \n",
        "      score=model(x)\n",
        "      _,preds=score.max(axis=1)\n",
        "      num_correct+=(preds==y).sum()\n",
        "      num_samples+=y.shape[0]\n",
        "  print(f\"Got {num_correct}/{num_samples} with accuracy {(float(num_correct)/float(num_samples))*100} % \")\n",
        "  model.train()\n",
        "\n",
        "\n"
      ],
      "metadata": {
        "id": "RpRTv4ksCzEC"
      },
      "execution_count": 9,
      "outputs": []
    },
    {
      "cell_type": "markdown",
      "source": [
        "Compute the Accuracy of Training and Test data"
      ],
      "metadata": {
        "id": "cjGAkjgoPepz"
      }
    },
    {
      "cell_type": "code",
      "source": [
        "calculate_accuracy(train_dataloader,model)\n",
        "calculate_accuracy(test_dataloader,model)"
      ],
      "metadata": {
        "id": "3eiwFWfNFnGr",
        "colab": {
          "base_uri": "https://localhost:8080/"
        },
        "outputId": "991e6d5f-3afc-4864-b8a5-c83cbb016526"
      },
      "execution_count": 10,
      "outputs": [
        {
          "output_type": "stream",
          "name": "stdout",
          "text": [
            "Training accuracy\n",
            "Got 58374/60000 with accuracy 97.28999999999999 % \n",
            "Test accuracy\n",
            "Got 9725/10000 with accuracy 97.25 % \n"
          ]
        }
      ]
    }
  ]
}